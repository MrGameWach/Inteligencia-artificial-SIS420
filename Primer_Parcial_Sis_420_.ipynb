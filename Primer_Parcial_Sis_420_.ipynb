{
  "nbformat": 4,
  "nbformat_minor": 0,
  "metadata": {
    "colab": {
      "private_outputs": true,
      "provenance": [],
      "authorship_tag": "ABX9TyPvSrl81LgBbQSpcAGjhwDU",
      "include_colab_link": true
    },
    "kernelspec": {
      "name": "python3",
      "display_name": "Python 3"
    },
    "language_info": {
      "name": "python"
    },
    "accelerator": "GPU",
    "gpuClass": "standard"
  },
  "cells": [
    {
      "cell_type": "markdown",
      "metadata": {
        "id": "view-in-github",
        "colab_type": "text"
      },
      "source": [
        "<a href=\"https://colab.research.google.com/github/MrGameWach/Inteligencia-artificial-SIS420/blob/main/Primer_Parcial_Sis_420_.ipynb\" target=\"_parent\"><img src=\"https://colab.research.google.com/assets/colab-badge.svg\" alt=\"Open In Colab\"/></a>"
      ]
    },
    {
      "cell_type": "markdown",
      "source": [
        "Andres Flor Enriquez primer parcial IA"
      ],
      "metadata": {
        "id": "1ni0hCRfFeMC"
      }
    },
    {
      "cell_type": "code",
      "source": [
        "from time import sleep"
      ],
      "metadata": {
        "id": "Fsr2BFPQFqeE"
      },
      "execution_count": null,
      "outputs": []
    },
    {
      "cell_type": "code",
      "source": [
        "class vara:\n",
        "\n",
        "    def __init__(self):\n",
        "        #constructor inicializando pila \"datopila\"\n",
        "        self.datopila = []\n",
        "        #posicion de donde hay que insertar o eliminar un dato\n",
        "        self.posicion=0\n",
        "\n",
        "    def ordenar(self , x):\n",
        "        self.datopila.insert(self.posicion,x)\n",
        "        self.posicion=self.posicion+1\n",
        "\n",
        "    def desordenar(self):\n",
        "        try:\n",
        "            self.posicion = self.posicion-1   \n",
        "            copydatopila=self.datopila[self.posicion]\n",
        "        #cuando se llama a desordenar este pone un 0 en la posicion en la que se encontraba\n",
        "        # el anterior dato sacado  \n",
        "            self.datopila[self.posicion]=0\n",
        "            return copydatopila\n",
        "        except:\n",
        "            print(\"La vara esta vacia\")\n",
        "    \n",
        "    #se declara vara vacia cuando no hay elementos en la pila , o vara donde van los discos\n",
        "    def vara_vacia(self):\n",
        "        #se retorna si la pila esta o no vacia \n",
        "        return self.datopila==[]\n",
        "    \n",
        "    def generar_disco(self,n):\n",
        "        #Se crea el constructor vara para poder almacenar los discos o datos de la pila o vara \n",
        "        #en este caso\n",
        "        varaf=[[]]\n",
        "        copiar_n=n\n",
        "        #Se representra la posicion 0 de la matriz donde \"|\" representa la vara\n",
        "        #segun cuantos disco esten en esa vara \n",
        "        for i in range(2*n+3):\n",
        "            if i==(2*n+3)//2:\n",
        "                varaf[0].append('|')\n",
        "            else:\n",
        "                varaf[0].append(' ')\n",
        "        #Dibuja los discos a la matriz con (--) un disco pequeño \n",
        "        for i in range(1,n+1):\n",
        "            varaf.append([])\n",
        "            for j in range(2*n+3):\n",
        "                if j < copiar_n-1 or j>(2*i+copiar_n+1):\n",
        "                    varaf[i].append(' ')\n",
        "                elif j==copiar_n-1:\n",
        "                    varaf[i].append('(')\n",
        "                elif j==(2*i+copiar_n+1):\n",
        "                    varaf[i].append(')')\n",
        "                else:\n",
        "                    varaf[i].append('-')\n",
        "            copiar_n=1\n",
        "            #retornara la vara con los discos que deberia dibujar \n",
        "        return varaf\n",
        "\n",
        "    #recible torre 1 y torre 3 e invoca ala funcion pintar torre , se saca un dato de torre 1 \n",
        "    # y se pone a la torre 3 y se da un tiempo para poder ver los pasos que hizo \n",
        "    def mover_disco(self,torre_1, torre_3):\n",
        "        self.pintar_torres()\n",
        "        dato=pilas[torre_1].desordenar()\n",
        "        pilas[torre_3].ordenar(dato)\n",
        "        print()\n",
        "        sleep(1)\n",
        "\n",
        "\n",
        "    def pintar_torres(self):\n",
        "        \n",
        "        for i in range(n,-1,-1):\n",
        "            for j in range(3):\n",
        "                self.gen_discos(pilas[j].datopila[i])\n",
        "            print()\n",
        "    \n",
        "    def bpa(self,n,torre_1,torre_2,torre_3):\n",
        "        if n==1:\n",
        "            self.mover_disco(torre_1-1,torre_3-1)\n",
        "        else:\n",
        "            self.bpa(n-1,torre_1,torre_3,torre_2)\n",
        "            #se llama ala funcion mover disco envez de imprimir directamente \n",
        "            self.mover_disco(torre_1-1,torre_3-1)\n",
        "            self.bpa(n-1,torre_2,torre_1,torre_3)\n",
        "\n",
        "    def gen_discos(self ,sin_discos):\n",
        "        for i in varaf[sin_discos]:\n",
        "            print(i,end=\"\")\n",
        "\n",
        "    def llenar_torre(self,n):\n",
        "        #la pila se llena al revez de n hasta 0 c \n",
        "        for i in range(n,-1,-1):\n",
        "            pilas[0].ordenar(i)\n",
        "            pilas[1].ordenar(0)\n",
        "            pilas[2].ordenar(0)\n",
        "        \n",
        "        pilas[0].posicion=n\n",
        "        pilas[1].posicion= 0  \n",
        "        pilas[2].posicion= 0\n"
      ],
      "metadata": {
        "id": "qod5HoS9GNWk"
      },
      "execution_count": null,
      "outputs": []
    },
    {
      "cell_type": "code",
      "source": [
        "if __name__ == \"__main__\":\n",
        "    v=vara()\n",
        "    n=int(input(\"cantidad de discos= \"))\n",
        "    varaf= v.generar_disco(n)\n",
        "    pilas=[vara(),vara(),vara()]\n",
        "    v.llenar_torre(n)\n",
        "    v.bpa(n,1,2,3)\n",
        "    v.pintar_torres()"
      ],
      "metadata": {
        "id": "Ofwvd6J6GaKq"
      },
      "execution_count": null,
      "outputs": []
    }
  ]
}